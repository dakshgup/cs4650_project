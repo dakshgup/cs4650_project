{
  "cells": [
    {
      "cell_type": "code",
      "execution_count": null,
      "metadata": {},
      "outputs": [],
      "source": [
        "!pip install -r requirements.txt"
      ]
    },
    {
      "cell_type": "code",
      "execution_count": null,
      "metadata": {},
      "outputs": [],
      "source": [
        "import pandas as pd\n",
        "import numpy as np\n",
        "\n",
        "import torch\n",
        "import torch.nn as nn\n",
        "import torch.optim as optim\n",
        "\n",
        "from torchtext.legacy import data\n",
        "import re\n",
        "import random\n",
        "\n",
        "import nltk\n",
        "from nltk.tokenize import word_tokenize\n",
        "from nltk.corpus import stopwords\n",
        "from nltk.corpus import stopwords\n",
        "nltk.download('punkt')\n",
        "nltk.download('stopwords')\n",
        "\n",
        "SEED=42\n",
        "torch.manual_seed(SEED)\n",
        "\n",
        "device=torch.device('cuda' if torch.cuda.is_available() else 'cpu')"
      ]
    },
    {
      "cell_type": "markdown",
      "metadata": {},
      "source": [
        "## Cleaning Data\n",
        "Processing the text so embeddings can be created with it"
      ]
    },
    {
      "cell_type": "code",
      "execution_count": 3,
      "metadata": {
        "colab": {
          "base_uri": "https://localhost:8080/"
        },
        "id": "rTc3DuMk1ZDw",
        "outputId": "6d9ff01a-9d50-4180-f97b-d9bb90652645"
      },
      "outputs": [
        {
          "data": {
            "text/plain": [
              "female     6700\n",
              "male       6194\n",
              "brand      5942\n",
              "unknown    1117\n",
              "Name: gender, dtype: int64"
            ]
          },
          "execution_count": 3,
          "metadata": {},
          "output_type": "execute_result"
        }
      ],
      "source": [
        "df = pd.read_csv('dataset_2.csv')\n",
        "\n",
        "df = df[['text', 'gender']]\n",
        "df.dropna(axis=0,inplace=True)\n",
        "\n",
        "df.gender.value_counts()"
      ]
    },
    {
      "cell_type": "code",
      "execution_count": 4,
      "metadata": {
        "id": "AGdAG2b61bEz"
      },
      "outputs": [],
      "source": [
        "df.drop(df.loc[df['gender'] == 'unknown'].index, inplace=True)\n",
        "df.drop(df.loc[df['gender'] == 'brand'].index, inplace=True)\n",
        "df.gender = df['gender'].replace('male', 0)\n",
        "df.gender = df['gender'].replace('female', 1)"
      ]
    },
    {
      "cell_type": "code",
      "execution_count": 5,
      "metadata": {
        "id": "1ZhJ96aJ2-SW"
      },
      "outputs": [],
      "source": [
        "def clean_text(text):\n",
        "    descrip = re.sub('[^a-zA-Z]', ' ', text)\n",
        "    text = text.lower()\n",
        "    return text"
      ]
    },
    {
      "cell_type": "code",
      "execution_count": 6,
      "metadata": {
        "colab": {
          "base_uri": "https://localhost:8080/",
          "height": 206
        },
        "id": "ZYms8jLP2_49",
        "outputId": "4f6dc224-0268-4682-8343-fe4c74b895b8"
      },
      "outputs": [
        {
          "data": {
            "text/html": [
              "<div>\n",
              "<style scoped>\n",
              "    .dataframe tbody tr th:only-of-type {\n",
              "        vertical-align: middle;\n",
              "    }\n",
              "\n",
              "    .dataframe tbody tr th {\n",
              "        vertical-align: top;\n",
              "    }\n",
              "\n",
              "    .dataframe thead th {\n",
              "        text-align: right;\n",
              "    }\n",
              "</style>\n",
              "<table border=\"1\" class=\"dataframe\">\n",
              "  <thead>\n",
              "    <tr style=\"text-align: right;\">\n",
              "      <th></th>\n",
              "      <th>text</th>\n",
              "      <th>gender</th>\n",
              "    </tr>\n",
              "  </thead>\n",
              "  <tbody>\n",
              "    <tr>\n",
              "      <th>0</th>\n",
              "      <td>robbie e responds to critics after win against...</td>\n",
              "      <td>0</td>\n",
              "    </tr>\n",
              "    <tr>\n",
              "      <th>1</th>\n",
              "      <td>it felt like they were my friends and i was li...</td>\n",
              "      <td>0</td>\n",
              "    </tr>\n",
              "    <tr>\n",
              "      <th>2</th>\n",
              "      <td>i absolutely adore when louis starts the songs...</td>\n",
              "      <td>0</td>\n",
              "    </tr>\n",
              "    <tr>\n",
              "      <th>3</th>\n",
              "      <td>hi jordanspieth - looking at the url - do you ...</td>\n",
              "      <td>0</td>\n",
              "    </tr>\n",
              "    <tr>\n",
              "      <th>4</th>\n",
              "      <td>watching neighbours on sky catching up with th...</td>\n",
              "      <td>1</td>\n",
              "    </tr>\n",
              "  </tbody>\n",
              "</table>\n",
              "</div>"
            ],
            "text/plain": [
              "                                                text  gender\n",
              "0  robbie e responds to critics after win against...       0\n",
              "1  it felt like they were my friends and i was li...       0\n",
              "2  i absolutely adore when louis starts the songs...       0\n",
              "3  hi jordanspieth - looking at the url - do you ...       0\n",
              "4  watching neighbours on sky catching up with th...       1"
            ]
          },
          "execution_count": 6,
          "metadata": {},
          "output_type": "execute_result"
        }
      ],
      "source": [
        "df.text = df.text.apply(lambda x: clean_text(x))\n",
        "df.text.replace('[@+]', \"\", regex=True,inplace=True)\n",
        "df.text.replace('[()]', \"\", regex=True,inplace=True)\n",
        "df.text.replace('[#+]', \"\", regex=True, inplace=True)\n",
        "df.text.replace('[�]', \"\", regex=True, inplace=True)\n",
        "df.head()"
      ]
    },
    {
      "cell_type": "code",
      "execution_count": 7,
      "metadata": {
        "id": "nAh_y2ML3Gs5"
      },
      "outputs": [],
      "source": [
        "df.to_csv('cleaned_data.csv', index=False)\n",
        "df = pd.read_csv('cleaned_data.csv')"
      ]
    },
    {
      "cell_type": "code",
      "execution_count": 8,
      "metadata": {
        "colab": {
          "base_uri": "https://localhost:8080/",
          "height": 206
        },
        "id": "Bs6fpbh9ZknF",
        "outputId": "cbda90f4-9420-4cf0-f4ae-921e37b8478d"
      },
      "outputs": [
        {
          "data": {
            "text/html": [
              "<div>\n",
              "<style scoped>\n",
              "    .dataframe tbody tr th:only-of-type {\n",
              "        vertical-align: middle;\n",
              "    }\n",
              "\n",
              "    .dataframe tbody tr th {\n",
              "        vertical-align: top;\n",
              "    }\n",
              "\n",
              "    .dataframe thead th {\n",
              "        text-align: right;\n",
              "    }\n",
              "</style>\n",
              "<table border=\"1\" class=\"dataframe\">\n",
              "  <thead>\n",
              "    <tr style=\"text-align: right;\">\n",
              "      <th></th>\n",
              "      <th>text</th>\n",
              "      <th>gender</th>\n",
              "    </tr>\n",
              "  </thead>\n",
              "  <tbody>\n",
              "    <tr>\n",
              "      <th>0</th>\n",
              "      <td>[robbie, e, responds, critics, win, eddie, edw...</td>\n",
              "      <td>0</td>\n",
              "    </tr>\n",
              "    <tr>\n",
              "      <th>1</th>\n",
              "      <td>[felt, like, friends, living, story, them۝, ht...</td>\n",
              "      <td>0</td>\n",
              "    </tr>\n",
              "    <tr>\n",
              "      <th>2</th>\n",
              "      <td>[absolutely, adore, louis, starts, songs, hits...</td>\n",
              "      <td>0</td>\n",
              "    </tr>\n",
              "    <tr>\n",
              "      <th>3</th>\n",
              "      <td>[hi, jordanspieth, -, looking, url, -, use, if...</td>\n",
              "      <td>0</td>\n",
              "    </tr>\n",
              "    <tr>\n",
              "      <th>4</th>\n",
              "      <td>[watching, neighbours, sky, catching, neighbs,...</td>\n",
              "      <td>1</td>\n",
              "    </tr>\n",
              "  </tbody>\n",
              "</table>\n",
              "</div>"
            ],
            "text/plain": [
              "                                                text  gender\n",
              "0  [robbie, e, responds, critics, win, eddie, edw...       0\n",
              "1  [felt, like, friends, living, story, them۝, ht...       0\n",
              "2  [absolutely, adore, louis, starts, songs, hits...       0\n",
              "3  [hi, jordanspieth, -, looking, url, -, use, if...       0\n",
              "4  [watching, neighbours, sky, catching, neighbs,...       1"
            ]
          },
          "execution_count": 8,
          "metadata": {},
          "output_type": "execute_result"
        }
      ],
      "source": [
        "df.text = df.text.apply(lambda x: word_tokenize(x))\n",
        "\n",
        "#Remove Stopwords\n",
        "stop = stopwords.words('english')\n",
        "df.text = df.text.apply(lambda x: [i for i in x if i not in stop])\n",
        "\n",
        "df.head()"
      ]
    },
    {
      "cell_type": "markdown",
      "metadata": {},
      "source": [
        "## Embeddings & Dataset\n",
        "\n",
        "Using torchtext and w2v to create embeddings and the torch dataset that will be used for trainng "
      ]
    },
    {
      "cell_type": "code",
      "execution_count": 9,
      "metadata": {
        "colab": {
          "base_uri": "https://localhost:8080/"
        },
        "id": "Xaih0BtPXgPM",
        "outputId": "73c874c9-8bf5-4ada-a343-f217c22f244a"
      },
      "outputs": [
        {
          "name": "stdout",
          "output_type": "stream",
          "text": [
            "Vocab size 8808\n"
          ]
        },
        {
          "data": {
            "text/plain": [
              "(3139397, 4541850)"
            ]
          },
          "execution_count": 9,
          "metadata": {},
          "output_type": "execute_result"
        }
      ],
      "source": [
        "#pre-trained embeddings\n",
        "import gensim\n",
        "\n",
        "w2v_model = gensim.models.Word2Vec(\n",
        "            df.text, min_count=2)\n",
        "words = w2v_model.wv.vocab.keys()\n",
        "vocab_size = len(words)\n",
        "print(\"Vocab size\", vocab_size)\n",
        "w2v_model.train(df.text, total_examples= len(df.text), epochs=30)"
      ]
    },
    {
      "cell_type": "code",
      "execution_count": 10,
      "metadata": {
        "id": "K0TmRFg5aVxE"
      },
      "outputs": [],
      "source": [
        "w2v_model.save('embeddings.txt')\n",
        "w2v_model = gensim.models.word2vec.Word2Vec.load('embeddings.txt')"
      ]
    },
    {
      "cell_type": "code",
      "execution_count": 11,
      "metadata": {
        "id": "cnxYgFjYa3Xn"
      },
      "outputs": [],
      "source": [
        "def tokenizer(text):\n",
        "  stop = stopwords.words('english')\n",
        "  tokenized = word_tokenize(text)\n",
        "  filtered = [w for w in tokenized if w.lower() not in stop]\n",
        "\n",
        "  return filtered"
      ]
    },
    {
      "cell_type": "code",
      "execution_count": 12,
      "metadata": {
        "id": "vwrBP0K2dvRr"
      },
      "outputs": [],
      "source": [
        "#Create dataset and split to train, test \n",
        "TEXT = data.Field(tokenize=tokenizer, batch_first=True, include_lengths=True)\n",
        "LABEL = data.LabelField(dtype = torch.float,batch_first=True)\n",
        "\n",
        "dataField = [(\"text\",TEXT),(\"gender\",LABEL)]\n",
        "\n",
        "dataset = data.TabularDataset(path='cleaned_data.csv',format='csv',fields=dataField,skip_header=True)\n",
        "\n",
        "train_data,val_data = dataset.split(split_ratio=0.8,random_state=random.seed(SEED))"
      ]
    },
    {
      "cell_type": "code",
      "execution_count": 23,
      "metadata": {
        "id": "gEuE_9mAsRF4"
      },
      "outputs": [],
      "source": [
        "#Glove as word embeddings\n",
        "\n",
        "# TEXT.build_vocab(train_data)\n",
        "# TEXT.vocab.load_vectors('glove.6B.100d')\n",
        "# embedding = TEXT.vocab.vectors.to(device)"
      ]
    },
    {
      "cell_type": "code",
      "execution_count": null,
      "metadata": {},
      "outputs": [],
      "source": [
        "#w2v as word embeddings\n",
        "TEXT.build_vocab(train_data)\n",
        "LABEL.build_vocab(train_data)\n",
        "\n",
        "word2vec_vectors = []\n",
        "for token, idx in (TEXT.vocab.stoi.items()):\n",
        "    if token in w2v_model.wv.vocab.keys():\n",
        "        word2vec_vectors.append(torch.FloatTensor(w2v_model[token]))\n",
        "    else:\n",
        "        word2vec_vectors.append(torch.zeros(100))\n",
        "\n",
        "TEXT.vocab.set_vectors(TEXT.vocab.stoi, word2vec_vectors, 100)\n",
        "embedding = torch.FloatTensor(TEXT.vocab.vectors)"
      ]
    },
    {
      "cell_type": "code",
      "execution_count": 14,
      "metadata": {
        "id": "NOHHSr-alFzz"
      },
      "outputs": [],
      "source": [
        "batch = 32\n",
        "device = torch.device('cuda' if torch.cuda.is_available() else 'cpu')  \n",
        "\n",
        "\n",
        "train_iterator, val_iterator = data.BucketIterator.splits(\n",
        "    (train_data, val_data), \n",
        "    batch_size = batch,\n",
        "    sort_key = lambda x: len(x.text),\n",
        "    sort_within_batch=True,\n",
        "    device = device)"
      ]
    },
    {
      "cell_type": "markdown",
      "metadata": {},
      "source": [
        "## Model\n",
        "\n",
        "Creating, training, evaluating the bidirectional LSTM classifier"
      ]
    },
    {
      "cell_type": "code",
      "execution_count": 15,
      "metadata": {
        "id": "WpQFaFYl0zlX"
      },
      "outputs": [],
      "source": [
        "class LSTMClassifier(nn.Module):\n",
        "    def __init__(self, vocab_size, embedding_dim, hidden_dim, output_dim, n_layers, dropout, embedding):\n",
        "        super().__init__()\n",
        " \n",
        "        # self.embedding = nn.Embedding(vocab_size, embedding_dim) #without pre-trained\n",
        "        self.embedding = nn.Embedding.from_pretrained(embedding)\n",
        "        self.lstm = nn.LSTM(embedding_dim, \n",
        "                           hidden_dim, \n",
        "                           num_layers=n_layers, \n",
        "                           dropout=dropout,\n",
        "                           batch_first=True)\n",
        "        self.fc = nn.Linear(hidden_dim * 2, output_dim)\n",
        "        self.act = nn.Sigmoid()\n",
        "        \n",
        "    def forward(self, text, text_len):\n",
        "        #(batch, seq len, embed dim)\n",
        "        embedded = self.embedding(text)\n",
        "        packed_embedded = nn.utils.rnn.pack_padded_sequence(embedded, text_len.cpu(),batch_first=True)\n",
        "        #(batch, n layer*2, hidden dim), (batch, n layer*2, hidden dim)\n",
        "        packed_output, (hidden, cell) = self.lstm(packed_embedded)\n",
        "        #final forward and backward state\n",
        "        hidden = torch.cat((hidden[-2,:,:], hidden[-1,:,:]), dim = 1)\n",
        "        #(batch, hidden * 2)\n",
        "        out = self.fc(hidden)\n",
        "        out = self.act(out)\n",
        "        return out"
      ]
    },
    {
      "cell_type": "code",
      "execution_count": 16,
      "metadata": {
        "id": "iLzcY0V7vQgt"
      },
      "outputs": [],
      "source": [
        "vocab_size = len(TEXT.vocab)\n",
        "output_size = 1\n",
        "embedding_dim = 100\n",
        "hidden_dim = 32\n",
        "n_layers = 2\n",
        "bidirectional = True\n",
        "dropout = 0.2\n",
        "\n",
        "model = LSTMClassifier(vocab_size, embedding_dim, hidden_dim, output_size, n_layers, dropout, embedding)\n",
        "model = model.to(device)\n",
        "\n",
        "optimizer = optim.Adam(model.parameters())\n",
        "criterion = nn.BCELoss()\n",
        "\n",
        "def accuracy(true, pred):\n",
        "    pred = torch.round(pred)\n",
        "    correct = (pred == true).float() \n",
        "    acc = correct.sum() / len(correct)\n",
        "    return acc"
      ]
    },
    {
      "cell_type": "code",
      "execution_count": 17,
      "metadata": {
        "id": "U6Drl-Fe9slx"
      },
      "outputs": [],
      "source": [
        "def train(model, iterator, optimizer, criterion):\n",
        "    epoch_loss = 0\n",
        "    epoch_acc = 0\n",
        "    \n",
        "    model.train()  \n",
        "    for batch in iterator:\n",
        "        optimizer.zero_grad()   \n",
        "        text, text_len = batch.text   \n",
        "\n",
        "        predictions = model(text, text_len).squeeze()  \n",
        "        loss = criterion(predictions, batch.gender)        \n",
        "        acc = accuracy(batch.gender, predictions)  \n",
        "\n",
        "        loss.backward()       \n",
        "        optimizer.step()      \n",
        "\n",
        "        epoch_loss += loss.item()  \n",
        "        epoch_acc += acc.item()    \n",
        "        \n",
        "    return epoch_loss / len(iterator), epoch_acc / len(iterator)\n",
        "\n",
        "def evaluate(model, iterator, criterion):\n",
        "    epoch_loss = 0\n",
        "    epoch_acc = 0\n",
        "\n",
        "    model.eval()\n",
        "    with torch.no_grad():\n",
        "        for batch in iterator:\n",
        "            text, text_len = batch.text\n",
        "\n",
        "            predictions = model(text, text_len).squeeze()\n",
        "            loss = criterion(predictions, batch.gender)\n",
        "            acc = accuracy(batch.gender, predictions)\n",
        "\n",
        "            epoch_loss += loss.item()\n",
        "            epoch_acc += acc.item()\n",
        "        \n",
        "    return epoch_loss / len(iterator), epoch_acc / len(iterator)"
      ]
    },
    {
      "cell_type": "markdown",
      "metadata": {},
      "source": [
        "## Results"
      ]
    },
    {
      "cell_type": "code",
      "execution_count": 40,
      "metadata": {
        "colab": {
          "base_uri": "https://localhost:8080/"
        },
        "id": "DywyOe9_7KrJ",
        "outputId": "c8b99cc3-8b22-45f6-ad01-2596cade03c1"
      },
      "outputs": [
        {
          "name": "stdout",
          "output_type": "stream",
          "text": [
            "Epoch: 0\n",
            "\tTrain Loss: 0.677 | Train Acc: 56.50%\n",
            "\t Val. Loss: 0.669 |  Val. Acc: 59.03%\n",
            "Epoch: 1\n",
            "\tTrain Loss: 0.663 | Train Acc: 59.55%\n",
            "\t Val. Loss: 0.664 |  Val. Acc: 60.19%\n",
            "Epoch: 2\n",
            "\tTrain Loss: 0.657 | Train Acc: 60.75%\n",
            "\t Val. Loss: 0.657 |  Val. Acc: 60.91%\n",
            "Epoch: 3\n",
            "\tTrain Loss: 0.648 | Train Acc: 61.88%\n",
            "\t Val. Loss: 0.660 |  Val. Acc: 60.25%\n",
            "Epoch: 4\n",
            "\tTrain Loss: 0.640 | Train Acc: 63.44%\n",
            "\t Val. Loss: 0.658 |  Val. Acc: 61.14%\n"
          ]
        }
      ],
      "source": [
        "N_EPOCHS = 5\n",
        "best_valid_loss = float('inf')\n",
        "train_loss_list = []\n",
        "val_loss_list = []\n",
        "train_acc_list = []\n",
        "val_acc_list = []\n",
        "\n",
        "for epoch in range(N_EPOCHS):\n",
        "     \n",
        "    #train the model\n",
        "    train_loss, train_acc = train(model, train_iterator, optimizer, criterion)\n",
        "    \n",
        "    #evaluate the model\n",
        "    valid_loss, valid_acc = evaluate(model, val_iterator, criterion)\n",
        "\n",
        "    train_loss_list.append(train_loss)\n",
        "    val_loss_list.append(valid_loss)\n",
        "    train_acc_list.append(train_acc)\n",
        "    val_acc_list.append(valid_acc)\n",
        "    \n",
        "    print(f'Epoch: {epoch}')\n",
        "    print(f'\\tTrain Loss: {train_loss:.3f} | Train Acc: {train_acc*100:.2f}%')\n",
        "    print(f'\\t Val. Loss: {valid_loss:.3f} |  Val. Acc: {valid_acc*100:.2f}%')"
      ]
    },
    {
      "cell_type": "code",
      "execution_count": 41,
      "metadata": {
        "colab": {
          "base_uri": "https://localhost:8080/",
          "height": 265
        },
        "id": "_pMvlgc97PuK",
        "outputId": "d3c267d5-b546-4bda-dec7-ab2a5302657a"
      },
      "outputs": [
        {
          "data": {
            "image/png": "[encoded data removed]",
            "text/plain": [
              "<Figure size 432x288 with 1 Axes>"
            ]
          },
          "metadata": {
            "needs_background": "light"
          },
          "output_type": "display_data"
        }
      ],
      "source": [
        "import matplotlib.pyplot as plt\n",
        "epochs = range(5)\n",
        "plt.plot(epochs, train_loss_list, label = 'Train Loss')\n",
        "plt.plot(epochs, val_loss_list, label = 'Val Loss')\n",
        "plt.show()"
      ]
    },
    {
      "cell_type": "code",
      "execution_count": 42,
      "metadata": {
        "colab": {
          "base_uri": "https://localhost:8080/",
          "height": 265
        },
        "id": "45s_UUaY7SoL",
        "outputId": "46bfedbf-b7f1-4863-8b78-1bf2a57c4dee"
      },
      "outputs": [
        {
          "data": {
            "image/png": "[encoded data removed]",
            "text/plain": [
              "<Figure size 432x288 with 1 Axes>"
            ]
          },
          "metadata": {
            "needs_background": "light"
          },
          "output_type": "display_data"
        }
      ],
      "source": [
        "plt.plot(epochs, train_acc_list, label = 'Train Acc')\n",
        "plt.plot(epochs, val_acc_list, label = 'Val Acc')\n",
        "plt.show()"
      ]
    }
  ],
  "metadata": {
    "accelerator": "GPU",
    "colab": {
      "collapsed_sections": [],
      "name": "Copy of Pytorch_Text_Classification.ipynb",
      "provenance": []
    },
    "kernelspec": {
      "display_name": "Python 3",
      "name": "python3"
    },
    "language_info": {
      "codemirror_mode": {
        "name": "ipython",
        "version": 3
      },
      "file_extension": ".py",
      "mimetype": "text/x-python",
      "name": "python",
      "nbconvert_exporter": "python",
      "pygments_lexer": "ipython3",
      "version": "3.7.4"
    }
  },
  "nbformat": 4,
  "nbformat_minor": 0
}
